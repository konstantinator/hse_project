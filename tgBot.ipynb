{
  "nbformat": 4,
  "nbformat_minor": 0,
  "metadata": {
    "colab": {
      "provenance": []
    },
    "kernelspec": {
      "name": "python3",
      "display_name": "Python 3"
    },
    "language_info": {
      "name": "python"
    }
  },
  "cells": [
    {
      "cell_type": "code",
      "source": [
        "!pip install pyTelegramBotAPI"
      ],
      "metadata": {
        "colab": {
          "base_uri": "https://localhost:8080/"
        },
        "id": "cyF7PsMErpML",
        "outputId": "b81f57db-72cc-4cd5-be37-5e8c29ba8901"
      },
      "execution_count": null,
      "outputs": [
        {
          "output_type": "stream",
          "name": "stdout",
          "text": [
            "Collecting pyTelegramBotAPI\n",
            "  Downloading pyTelegramBotAPI-4.14.1.tar.gz (244 kB)\n",
            "\u001b[2K     \u001b[90m━━━━━━━━━━━━━━━━━━━━━━━━━━━━━━━━━━━━━━━━\u001b[0m \u001b[32m244.2/244.2 kB\u001b[0m \u001b[31m3.3 MB/s\u001b[0m eta \u001b[36m0:00:00\u001b[0m\n",
            "\u001b[?25h  Preparing metadata (setup.py) ... \u001b[?25l\u001b[?25hdone\n",
            "Requirement already satisfied: requests in /usr/local/lib/python3.10/dist-packages (from pyTelegramBotAPI) (2.31.0)\n",
            "Requirement already satisfied: charset-normalizer<4,>=2 in /usr/local/lib/python3.10/dist-packages (from requests->pyTelegramBotAPI) (3.3.2)\n",
            "Requirement already satisfied: idna<4,>=2.5 in /usr/local/lib/python3.10/dist-packages (from requests->pyTelegramBotAPI) (3.6)\n",
            "Requirement already satisfied: urllib3<3,>=1.21.1 in /usr/local/lib/python3.10/dist-packages (from requests->pyTelegramBotAPI) (2.0.7)\n",
            "Requirement already satisfied: certifi>=2017.4.17 in /usr/local/lib/python3.10/dist-packages (from requests->pyTelegramBotAPI) (2023.11.17)\n",
            "Building wheels for collected packages: pyTelegramBotAPI\n",
            "  Building wheel for pyTelegramBotAPI (setup.py) ... \u001b[?25l\u001b[?25hdone\n",
            "  Created wheel for pyTelegramBotAPI: filename=pyTelegramBotAPI-4.14.1-py3-none-any.whl size=215662 sha256=37e9f73787b30c70d3c089823b21703cb514f2377c3fd00faaea34f751c122f7\n",
            "  Stored in directory: /root/.cache/pip/wheels/81/0e/bd/a68932e0d60008ec3eb11ae056e6d527af5ec9749922cd5a08\n",
            "Successfully built pyTelegramBotAPI\n",
            "Installing collected packages: pyTelegramBotAPI\n",
            "Successfully installed pyTelegramBotAPI-4.14.1\n"
          ]
        }
      ]
    },
    {
      "cell_type": "code",
      "execution_count": null,
      "metadata": {
        "id": "wE99sMjord14"
      },
      "outputs": [],
      "source": [
        "import telebot\n",
        "# from your_model_module import YourModelClass\n",
        "\n",
        "# Загрузка модели\n",
        "# model = YourModelClass()\n",
        "# Загрузка весов модели\n",
        "# model.load_state_dict('/model/weights')\n",
        "\n",
        "# заглушка\n",
        "class model:\n",
        "    def predict(text):\n",
        "        return(text)\n",
        "\n",
        "\n",
        "# Замените 'YOUR_BOT_TOKEN' на ваш API токен бота - не стоит использовать мой токен\n",
        "BOT_TOKEN = '6708563519:AAHaTh5VfMYpkCUu8gHsBkCxIBGaY8mfOLo'\n",
        "\n",
        "bot = telebot.TeleBot(BOT_TOKEN)\n",
        "\n",
        "# Обработчик команды /start\n",
        "@bot.message_handler(commands=['start'])\n",
        "def start(message):\n",
        "    bot.send_message(message.chat.id, \"Hello fellas, i am ready to analise your news!\")\n",
        "\n",
        "# Обработчик текстовых сообщений\n",
        "@bot.message_handler(func=lambda message: True)\n",
        "def text_handler(message):\n",
        "    user_text = message.text\n",
        "    # Замените этот код на вызов вашей нейросети\n",
        "    model_response = model.predict(user_text)  # Получение ответа от модели\n",
        "    bot.send_message(message.chat.id, model_response)\n",
        "\n",
        "# Запускаем бота\n",
        "if __name__ == '__main__':\n",
        "    bot.polling(none_stop=True)"
      ]
    }
  ]
}