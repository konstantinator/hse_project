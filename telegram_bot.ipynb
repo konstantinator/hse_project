{
  "nbformat": 4,
  "nbformat_minor": 0,
  "metadata": {
    "colab": {
      "provenance": []
    },
    "kernelspec": {
      "name": "python3",
      "display_name": "Python 3"
    },
    "language_info": {
      "name": "python"
    }
  },
  "cells": [
    {
      "cell_type": "markdown",
      "source": [
        "## Загрузка моделей и данных"
      ],
      "metadata": {
        "id": "qjq864rUS56J"
      }
    },
    {
      "cell_type": "code",
      "source": [
        "!pip install -q -U scikit-learn\n",
        "!pip install -q -U aiogram\n",
        "!pip install -q typing-extensions==4.7.1"
      ],
      "metadata": {
        "id": "FJDbpQvhGmQn",
        "colab": {
          "base_uri": "https://localhost:8080/"
        },
        "outputId": "a84e4231-e78e-4d47-9776-16b10e5b6b7f"
      },
      "execution_count": 1,
      "outputs": [
        {
          "output_type": "stream",
          "name": "stdout",
          "text": [
            "\u001b[2K     \u001b[90m━━━━━━━━━━━━━━━━━━━━━━━━━━━━━━━━━━━━━━━━\u001b[0m \u001b[32m10.8/10.8 MB\u001b[0m \u001b[31m16.5 MB/s\u001b[0m eta \u001b[36m0:00:00\u001b[0m\n",
            "\u001b[2K     \u001b[90m━━━━━━━━━━━━━━━━━━━━━━━━━━━━━━━━━━━━━━━━\u001b[0m \u001b[32m510.8/510.8 kB\u001b[0m \u001b[31m1.8 MB/s\u001b[0m eta \u001b[36m0:00:00\u001b[0m\n",
            "\u001b[2K     \u001b[90m━━━━━━━━━━━━━━━━━━━━━━━━━━━━━━━━━━━━━━━━\u001b[0m \u001b[32m381.9/381.9 kB\u001b[0m \u001b[31m25.6 MB/s\u001b[0m eta \u001b[36m0:00:00\u001b[0m\n",
            "\u001b[2K     \u001b[90m━━━━━━━━━━━━━━━━━━━━━━━━━━━━━━━━━━━━━━━━\u001b[0m \u001b[32m2.1/2.1 MB\u001b[0m \u001b[31m56.4 MB/s\u001b[0m eta \u001b[36m0:00:00\u001b[0m\n",
            "\u001b[?25h\u001b[31mERROR: pip's dependency resolver does not currently take into account all the packages that are installed. This behaviour is the source of the following dependency conflicts.\n",
            "lida 0.0.10 requires fastapi, which is not installed.\n",
            "lida 0.0.10 requires kaleido, which is not installed.\n",
            "lida 0.0.10 requires python-multipart, which is not installed.\n",
            "lida 0.0.10 requires uvicorn, which is not installed.\n",
            "llmx 0.0.15a0 requires cohere, which is not installed.\n",
            "llmx 0.0.15a0 requires openai, which is not installed.\n",
            "llmx 0.0.15a0 requires tiktoken, which is not installed.\n",
            "tensorflow-probability 0.22.0 requires typing-extensions<4.6.0, but you have typing-extensions 4.9.0 which is incompatible.\u001b[0m\u001b[31m\n",
            "\u001b[0m\u001b[31mERROR: pip's dependency resolver does not currently take into account all the packages that are installed. This behaviour is the source of the following dependency conflicts.\n",
            "tensorflow-probability 0.22.0 requires typing-extensions<4.6.0, but you have typing-extensions 4.7.1 which is incompatible.\u001b[0m\u001b[31m\n",
            "\u001b[0m"
          ]
        }
      ]
    },
    {
      "cell_type": "code",
      "source": [
        "!pip install -q -U wldhx.yadisk-direct nltk pandarallel pymorphy2 pandas\n",
        "!curl -L $(yadisk-direct https://disk.yandex.ru/d/Ihh18yf4807QPA) -o data.zip\n",
        "!unzip data.zip"
      ],
      "metadata": {
        "id": "dlaM-97nHjcm",
        "colab": {
          "base_uri": "https://localhost:8080/"
        },
        "outputId": "591d9196-a074-432c-c884-d2316f788fb3"
      },
      "execution_count": 2,
      "outputs": [
        {
          "output_type": "stream",
          "name": "stdout",
          "text": [
            "  Preparing metadata (setup.py) ... \u001b[?25l\u001b[?25hdone\n",
            "\u001b[2K     \u001b[90m━━━━━━━━━━━━━━━━━━━━━━━━━━━━━━━━━━━━━━━━\u001b[0m \u001b[32m55.5/55.5 kB\u001b[0m \u001b[31m1.8 MB/s\u001b[0m eta \u001b[36m0:00:00\u001b[0m\n",
            "\u001b[2K     \u001b[90m━━━━━━━━━━━━━━━━━━━━━━━━━━━━━━━━━━━━━━━━\u001b[0m \u001b[32m12.3/12.3 MB\u001b[0m \u001b[31m21.4 MB/s\u001b[0m eta \u001b[36m0:00:00\u001b[0m\n",
            "\u001b[2K     \u001b[90m━━━━━━━━━━━━━━━━━━━━━━━━━━━━━━━━━━━━━━━━\u001b[0m \u001b[32m115.3/115.3 kB\u001b[0m \u001b[31m11.8 MB/s\u001b[0m eta \u001b[36m0:00:00\u001b[0m\n",
            "\u001b[2K     \u001b[90m━━━━━━━━━━━━━━━━━━━━━━━━━━━━━━━━━━━━━━━━\u001b[0m \u001b[32m8.2/8.2 MB\u001b[0m \u001b[31m49.2 MB/s\u001b[0m eta \u001b[36m0:00:00\u001b[0m\n",
            "\u001b[?25h  Preparing metadata (setup.py) ... \u001b[?25l\u001b[?25hdone\n",
            "\u001b[2K     \u001b[90m━━━━━━━━━━━━━━━━━━━━━━━━━━━━━━━━━━━━━━━━\u001b[0m \u001b[32m346.6/346.6 kB\u001b[0m \u001b[31m27.6 MB/s\u001b[0m eta \u001b[36m0:00:00\u001b[0m\n",
            "\u001b[?25h  Building wheel for pandarallel (setup.py) ... \u001b[?25l\u001b[?25hdone\n",
            "  Building wheel for docopt (setup.py) ... \u001b[?25l\u001b[?25hdone\n",
            "\u001b[31mERROR: pip's dependency resolver does not currently take into account all the packages that are installed. This behaviour is the source of the following dependency conflicts.\n",
            "lida 0.0.10 requires fastapi, which is not installed.\n",
            "lida 0.0.10 requires kaleido, which is not installed.\n",
            "lida 0.0.10 requires python-multipart, which is not installed.\n",
            "lida 0.0.10 requires uvicorn, which is not installed.\n",
            "bigframes 0.18.0 requires pandas<2.1.4,>=1.5.0, but you have pandas 2.1.4 which is incompatible.\n",
            "google-colab 1.0.0 requires pandas==1.5.3, but you have pandas 2.1.4 which is incompatible.\u001b[0m\u001b[31m\n",
            "\u001b[0m  % Total    % Received % Xferd  Average Speed   Time    Time     Time  Current\n",
            "                                 Dload  Upload   Total   Spent    Left  Speed\n",
            "  0     0    0     0    0     0      0      0 --:--:-- --:--:-- --:--:--     0\n",
            "100  476M  100  476M    0     0  18.2M      0  0:00:26  0:00:26 --:--:-- 21.2M\n",
            "Archive:  data.zip\n",
            "  inflating: final_dataset.csv       \n"
          ]
        }
      ]
    },
    {
      "cell_type": "code",
      "source": [
        "import pandas as pd\n",
        "import matplotlib.pyplot as plt\n",
        "from collections import Counter\n",
        "import numpy as np\n",
        "import nltk\n",
        "import joblib\n",
        "from collections import Counter\n",
        "\n",
        "nltk.download('stopwords')\n",
        "from pandarallel import pandarallel\n",
        "import re\n",
        "from pymorphy2 import MorphAnalyzer\n",
        "from nltk.corpus import stopwords\n",
        "pd.set_option('max_colwidth', None)\n",
        "import warnings\n",
        "warnings.filterwarnings(\"ignore\")\n",
        "import seaborn as sns\n",
        "from sklearn.feature_extraction.text import CountVectorizer\n",
        "import pandas as pd\n",
        "from scipy.sparse import hstack\n",
        "from sklearn.metrics import roc_auc_score, precision_score, recall_score, f1_score, accuracy_score, classification_report\n",
        "from sklearn.neighbors import KNeighborsClassifier\n",
        "from sklearn.ensemble import RandomForestClassifier\n",
        "from sklearn.linear_model import LogisticRegression\n",
        "from sklearn.metrics import confusion_matrix, ConfusionMatrixDisplay\n",
        "import warnings\n",
        "from sklearn.metrics.pairwise import cosine_similarity"
      ],
      "metadata": {
        "id": "2zbPvrI-tu81",
        "colab": {
          "base_uri": "https://localhost:8080/"
        },
        "outputId": "0b4c54ca-3386-4757-c9c8-47f903b85cb2"
      },
      "execution_count": 3,
      "outputs": [
        {
          "output_type": "stream",
          "name": "stderr",
          "text": [
            "[nltk_data] Downloading package stopwords to /root/nltk_data...\n",
            "[nltk_data]   Unzipping corpora/stopwords.zip.\n"
          ]
        }
      ]
    },
    {
      "cell_type": "code",
      "execution_count": 4,
      "metadata": {
        "id": "qsh8fRORQFtv",
        "colab": {
          "base_uri": "https://localhost:8080/"
        },
        "outputId": "90734f8f-ca9a-4dd2-fb72-22724fbe848b"
      },
      "outputs": [
        {
          "output_type": "stream",
          "name": "stdout",
          "text": [
            "Cloning into 'hse_project'...\n",
            "remote: Enumerating objects: 52, done.\u001b[K\n",
            "remote: Counting objects: 100% (52/52), done.\u001b[K\n",
            "remote: Compressing objects: 100% (42/42), done.\u001b[K\n",
            "remote: Total 52 (delta 7), reused 31 (delta 4), pack-reused 0\u001b[K\n",
            "Receiving objects: 100% (52/52), 6.87 MiB | 18.95 MiB/s, done.\n",
            "Resolving deltas: 100% (7/7), done.\n"
          ]
        }
      ],
      "source": [
        "!git clone https://github.com/konstantinator/hse_project.git\n",
        "with open('hse_project/bin/lr.pkl', 'rb') as f:\n",
        "    lr = joblib.load(f)\n",
        "with open('hse_project/bin/sw.pkl', 'rb') as f:\n",
        "    stopwords_ru=joblib.load(f)\n",
        "with open('hse_project/bin/enc_full.pkl', 'rb') as f:\n",
        "    enc_full = joblib.load(f)\n",
        "with open('hse_project/bin/dec.pkl', 'rb') as f:\n",
        "    dec = joblib.load(f)"
      ]
    },
    {
      "cell_type": "code",
      "execution_count": 5,
      "metadata": {
        "id": "ZTvuug4jKeym"
      },
      "outputs": [],
      "source": [
        "df_source = pd.read_csv('final_dataset.csv' )\n",
        "df_source_new = df_source[(df_source['topic']!='Россия') & (df_source['topic']!='Мир')]"
      ]
    },
    {
      "cell_type": "code",
      "execution_count": 6,
      "metadata": {
        "id": "DpozpFNBKevu"
      },
      "outputs": [],
      "source": [
        "res = []\n",
        "for topic in df_source_new['topic'].unique():\n",
        "    res.append(df_source_new[df_source_new['topic']==topic].sample(100))"
      ]
    },
    {
      "cell_type": "code",
      "execution_count": 7,
      "metadata": {
        "id": "iI3YC4h3LaEP"
      },
      "outputs": [],
      "source": [
        "df_base = pd.concat(res)\n",
        "df_base = df_base.reset_index(drop=True)"
      ]
    },
    {
      "cell_type": "code",
      "execution_count": 8,
      "metadata": {
        "id": "CffeH1VkRkOj"
      },
      "outputs": [],
      "source": [
        "vectors = enc_full.transform(df_base['title'] + ' ' + df_base['text']).toarray()"
      ]
    },
    {
      "cell_type": "code",
      "execution_count": 9,
      "metadata": {
        "id": "QTBnLNzwLicg"
      },
      "outputs": [],
      "source": [
        "def get_sim_text(example):\n",
        "    simili = cosine_similarity(vectors, enc_full.transform([example]).toarray())\n",
        "    arg = simili.argmax()\n",
        "    samp = df_base.iloc[arg,:]\n",
        "    return f'Title: {samp.title} \\n Body: {samp.text} \\n class: {samp.topic}'"
      ]
    },
    {
      "cell_type": "code",
      "execution_count": 10,
      "metadata": {
        "id": "-4gnlksrSNwT",
        "colab": {
          "base_uri": "https://localhost:8080/"
        },
        "outputId": "fbd37243-0609-4595-d88f-b3075d65deff"
      },
      "outputs": [
        {
          "output_type": "stream",
          "name": "stdout",
          "text": [
            "Title: Минфин задумался о включении Кипра и Люксембурга в черный список офшоров   \n",
            " Body: Министерство финансов России сообщило о том, что у него появились основания включить Кипр и Люксембург в черный список офшоров. Об этом в номере от 28 ноября пишут «Ведомости» со ссылкой на главу налогового департамента ведомства Илью Трунина. Такое заявление прозвучало после того, как Глобальный форум по обмену информацией для налоговых целей назвал Люксембург и Кипр не соответствующими стандартам прозрачности. Форум, считающий, что обе этих страны не способны предоставить информацию в полном объеме, имеет мандат группы G20. Сейчас российские налоговики неспособны в полной мере применить антиофшорные законы, поскольку около четверти всех запросов ФНС в другие страны остается без ответа. По словам Трунина, запросы игнорируются странами, с которыми нет специальных соглашений об обмене информацией. В их число входят и Люксембург, и Кипр. Если Минфин все же примет такое решение, российские компании лишатся некоторых схем налоговой оптимизации. К примеру, экспортная выручка сейчас может оседать на структурах из этих стран, если товар из России продается им по заниженной цене. Такая сделка подпадает под контроль, только если структура аффилирована с российской, что компании легко скрывают. В случае, если страна находится в «черном списке», под контроль автоматически попадают цены всех сделок, если их суммарная стоимость за год составляет 60 миллионов рублей. В итоге компаниям придется обосновывать ценообразование и направлять уведомления обо всех таких сделках. При этом контроль распространяется не только на экспортно-импортные сделки, но также и оплату консультационных услуг, выплату процентов и роялти. В июне 2013 года президент Владимир Путин пообещал, что Россия, как и другие страны «Большой восьмерки» (G8), подготовит национальный план борьбы с офшорами. Президент поручил разработать меры по «деофшоризации» российской экономики. Сейчас разработкой соответствующего плана занимаются Росфинмониторинг, Минэкономразвития и Минфин. \n",
            " class: Экономика\n"
          ]
        }
      ],
      "source": [
        "ind=2\n",
        "example = df_base['title'].values[ind] + ' ' + df_base['text'].values[ind]\n",
        "print(get_sim_text(example))"
      ]
    },
    {
      "cell_type": "code",
      "execution_count": 11,
      "metadata": {
        "id": "axDGIk1tTChF",
        "colab": {
          "base_uri": "https://localhost:8080/"
        },
        "outputId": "5accc5dd-09f4-4040-bdc1-39d1669fba84"
      },
      "outputs": [
        {
          "output_type": "execute_result",
          "data": {
            "text/plain": [
              "title                                                                                                                                                                                                                                                                                                                                                                                                                                                                                                                                                                                                                                                                                                                                                                                                                                                                                                                                                                                                                                                                                                                                                                                                                                                                                                                                                                                                                                                                                                                                                                                                                                                                                                                                                                                                                                                                                                                                                                 Минфин задумался о включении Кипра и Люксембурга в черный список офшоров  \n",
              "text     Министерство финансов России сообщило о том, что у него появились основания включить Кипр и Люксембург в черный список офшоров. Об этом в номере от 28 ноября пишут «Ведомости» со ссылкой на главу налогового департамента ведомства Илью Трунина. Такое заявление прозвучало после того, как Глобальный форум по обмену информацией для налоговых целей назвал Люксембург и Кипр не соответствующими стандартам прозрачности. Форум, считающий, что обе этих страны не способны предоставить информацию в полном объеме, имеет мандат группы G20. Сейчас российские налоговики неспособны в полной мере применить антиофшорные законы, поскольку около четверти всех запросов ФНС в другие страны остается без ответа. По словам Трунина, запросы игнорируются странами, с которыми нет специальных соглашений об обмене информацией. В их число входят и Люксембург, и Кипр. Если Минфин все же примет такое решение, российские компании лишатся некоторых схем налоговой оптимизации. К примеру, экспортная выручка сейчас может оседать на структурах из этих стран, если товар из России продается им по заниженной цене. Такая сделка подпадает под контроль, только если структура аффилирована с российской, что компании легко скрывают. В случае, если страна находится в «черном списке», под контроль автоматически попадают цены всех сделок, если их суммарная стоимость за год составляет 60 миллионов рублей. В итоге компаниям придется обосновывать ценообразование и направлять уведомления обо всех таких сделках. При этом контроль распространяется не только на экспортно-импортные сделки, но также и оплату консультационных услуг, выплату процентов и роялти. В июне 2013 года президент Владимир Путин пообещал, что Россия, как и другие страны «Большой восьмерки» (G8), подготовит национальный план борьбы с офшорами. Президент поручил разработать меры по «деофшоризации» российской экономики. Сейчас разработкой соответствующего плана занимаются Росфинмониторинг, Минэкономразвития и Минфин.\n",
              "topic                                                                                                                                                                                                                                                                                                                                                                                                                                                                                                                                                                                                                                                                                                                                                                                                                                                                                                                                                                                                                                                                                                                                                                                                                                                                                                                                                                                                                                                                                                                                                                                                                                                                                                                                                                                                                                                                                                                                                                                                                                  Экономика\n",
              "date                                                                                                                                                                                                                                                                                                                                                                                                                                                                                                                                                                                                                                                                                                                                                                                                                                                                                                                                                                                                                                                                                                                                                                                                                                                                                                                                                                                                                                                                                                                                                                                                                                                                                                                                                                                                                                                                                                                                                                                                                                  2013/11/28\n",
              "Name: 2, dtype: object"
            ]
          },
          "metadata": {},
          "execution_count": 11
        }
      ],
      "source": [
        "df_base.iloc[2,:]"
      ]
    },
    {
      "cell_type": "code",
      "execution_count": 12,
      "metadata": {
        "id": "VUXIjSHnQ_Ey"
      },
      "outputs": [],
      "source": [
        "# !rm -rf hse_project"
      ]
    },
    {
      "cell_type": "code",
      "execution_count": 13,
      "metadata": {
        "id": "Tkb-nGydboxA"
      },
      "outputs": [],
      "source": [
        "patterns = r'[^a-zA-Zа-яА-Я0-9ёЁ]'\n",
        "morph = MorphAnalyzer()\n",
        "\n",
        "def preprocess(text):\n",
        "    return ' '.join([morph.normal_forms(i)[0] for i in re.sub(patterns, ' ', text.lower()).split() if i not in stopwords_ru])"
      ]
    },
    {
      "cell_type": "code",
      "execution_count": 14,
      "metadata": {
        "id": "RWuuaoTW0Irs"
      },
      "outputs": [],
      "source": [
        "example = '''Some Tittle\n",
        "\n",
        "Some body'''"
      ]
    },
    {
      "cell_type": "code",
      "execution_count": 15,
      "metadata": {
        "id": "jzFszii7Tfwg",
        "colab": {
          "base_uri": "https://localhost:8080/",
          "height": 36
        },
        "outputId": "f2ff5d42-0366-4646-ed4a-87daf90211d3"
      },
      "outputs": [
        {
          "output_type": "execute_result",
          "data": {
            "text/plain": [
              "'Из жизни'"
            ],
            "application/vnd.google.colaboratory.intrinsic+json": {
              "type": "string"
            }
          },
          "metadata": {},
          "execution_count": 15
        }
      ],
      "source": [
        "title_body = example\n",
        "title_body = preprocess(title_body)\n",
        "X_pred = enc_full.transform([title_body])\n",
        "dec[lr.predict(X_pred)[0]]"
      ]
    },
    {
      "cell_type": "code",
      "execution_count": 16,
      "metadata": {
        "id": "ULo26hB32n_S"
      },
      "outputs": [],
      "source": [
        "def predict(example):\n",
        "    title_body = example\n",
        "    title_body = preprocess(title_body)\n",
        "    X_pred = enc_full.transform([title_body])\n",
        "    return dec[lr.predict(X_pred)[0]]"
      ]
    },
    {
      "cell_type": "code",
      "execution_count": 17,
      "metadata": {
        "id": "s5iB7JCLTV8_"
      },
      "outputs": [],
      "source": [
        "answer = predict(example)"
      ]
    },
    {
      "cell_type": "code",
      "execution_count": 18,
      "metadata": {
        "id": "Zo0DmBWq3WwZ"
      },
      "outputs": [],
      "source": [
        "try:\n",
        "    answer = predict(example)\n",
        "except:\n",
        "    answer = 'Error'"
      ]
    },
    {
      "cell_type": "code",
      "execution_count": 19,
      "metadata": {
        "id": "M9jaAgtQ3cuY",
        "colab": {
          "base_uri": "https://localhost:8080/",
          "height": 36
        },
        "outputId": "233058dc-ca6a-4624-b6e2-75e36ca2cc68"
      },
      "outputs": [
        {
          "output_type": "execute_result",
          "data": {
            "text/plain": [
              "'Из жизни'"
            ],
            "application/vnd.google.colaboratory.intrinsic+json": {
              "type": "string"
            }
          },
          "metadata": {},
          "execution_count": 19
        }
      ],
      "source": [
        "answer"
      ]
    },
    {
      "cell_type": "markdown",
      "metadata": {
        "id": "dTLHp8c-PyZj"
      },
      "source": [
        "## Асинхронный бот"
      ]
    },
    {
      "cell_type": "markdown",
      "source": [
        "###Функции, которые использует Бот"
      ],
      "metadata": {
        "id": "pGZrMxDuInv2"
      }
    },
    {
      "cell_type": "code",
      "execution_count": 21,
      "metadata": {
        "id": "6hiQ8tv_vkf2"
      },
      "outputs": [],
      "source": [
        "def predict_lr(example):\n",
        "    title_body = example\n",
        "    title_body = preprocess(title_body)\n",
        "    X_pred = enc_full.transform([title_body])\n",
        "    return dec[lr.predict(X_pred)[0]]\n",
        "\n",
        "def predict_rf(example):\n",
        "    title_body = example\n",
        "    title_body = preprocess(title_body)\n",
        "    X_pred = enc_full.transform([title_body])\n",
        "    return dec[rf.predict(X_pred)[0]]\n",
        "\n",
        "def predict_proba(example):\n",
        "    title_body = example\n",
        "    title_body = preprocess(title_body)\n",
        "    X_pred = enc_full.transform([title_body])\n",
        "    probs = lr.predict_proba(X_pred)[0]\n",
        "    return [(dec[i], probs[i]) for i in range(9)]\n",
        "\n",
        "def format_predictions(predictions):\n",
        "    predictions = sorted(predictions, key=lambda x: x[1], reverse=True)\n",
        "    formatted_predictions = [f\"{category}: {probability:.2f}\" for category, probability in predictions]\n",
        "    return ',\\n'.join(formatted_predictions)"
      ]
    },
    {
      "cell_type": "markdown",
      "metadata": {
        "id": "yF5LWYnxrlQt"
      },
      "source": [
        "### Импорты"
      ]
    },
    {
      "cell_type": "code",
      "source": [
        "# !pip install networkx matplotlib\n",
        "!pip install emoji"
      ],
      "metadata": {
        "id": "myPbzrlwk7y5",
        "colab": {
          "base_uri": "https://localhost:8080/"
        },
        "outputId": "2e264de8-9566-483b-c9e8-80e6152c245f"
      },
      "execution_count": 22,
      "outputs": [
        {
          "output_type": "stream",
          "name": "stdout",
          "text": [
            "Collecting emoji\n",
            "  Downloading emoji-2.9.0-py2.py3-none-any.whl (397 kB)\n",
            "\u001b[2K     \u001b[90m━━━━━━━━━━━━━━━━━━━━━━━━━━━━━━━━━━━━━━━━\u001b[0m \u001b[32m397.5/397.5 kB\u001b[0m \u001b[31m4.6 MB/s\u001b[0m eta \u001b[36m0:00:00\u001b[0m\n",
            "\u001b[?25hInstalling collected packages: emoji\n",
            "Successfully installed emoji-2.9.0\n"
          ]
        }
      ]
    },
    {
      "cell_type": "code",
      "execution_count": 23,
      "metadata": {
        "id": "U3HhO5m4rnpE"
      },
      "outputs": [],
      "source": [
        "import asyncio\n",
        "import logging\n",
        "from aiogram import Bot, Dispatcher, types, Router\n",
        "from aiogram.filters.command import Command\n",
        "from aiogram import F\n",
        "from aiogram.types import Message\n",
        "from aiogram.filters import Command\n",
        "from aiogram.enums import ParseMode\n",
        "from aiogram import html\n",
        "from aiogram.filters import Command\n",
        "from aiogram.types import ReplyKeyboardMarkup\n",
        "from aiogram.utils.keyboard import ReplyKeyboardBuilder\n",
        "from aiogram.types import Message, ReplyKeyboardRemove\n",
        "from aiogram.filters import Command, StateFilter\n",
        "from aiogram.fsm.context import FSMContext\n",
        "from aiogram.fsm.state import StatesGroup, State\n",
        "from aiogram.fsm.state import default_state\n",
        "import emoji\n",
        "import aiofiles"
      ]
    },
    {
      "cell_type": "markdown",
      "metadata": {
        "id": "JayHxYsm2slU"
      },
      "source": [
        "### Возможные состояния и граф состояний\n",
        "\n",
        "Состояния это ожидания определенного воода от пользователя"
      ]
    },
    {
      "cell_type": "code",
      "execution_count": 24,
      "metadata": {
        "id": "e3e1FTn32qi7"
      },
      "outputs": [],
      "source": [
        "class BotStates(StatesGroup):\n",
        "    registration_state = State()\n",
        "    main_menu_state = State()           # Главное меню\n",
        "    choosing_model_state = State()      # Выбор модели\n",
        "    logreg_state = State()              # Вставка новости для лог рег\n",
        "    randomforest_state = State()        # Вставка новости для randomForest\n",
        "    lr_prob_state = State()             # Вывод уверенность logreg своем ответе\n",
        "    rf_prob_state = State()             # Вывод уверенность randomForest своем ответе\n",
        "    sim_state = State()            # Вставка новости для поиска похожей\n",
        "    rate_state = State()                # Вставка новости для поиска подходящей"
      ]
    },
    {
      "cell_type": "code",
      "source": [
        "# !pip install pydot"
      ],
      "metadata": {
        "id": "asamnek7nDaY"
      },
      "execution_count": 25,
      "outputs": []
    },
    {
      "cell_type": "code",
      "source": [
        "import networkx as nx\n",
        "import matplotlib.pyplot as plt\n",
        "\n",
        "G = nx.DiGraph()\n",
        "\n",
        "# Добавляем узлы и ребра\n",
        "G.add_edge(\"Регистрация\", \"Главное меню\")\n",
        "G.add_edge(\"Главное меню\", \"Подбери заголовок\")\n",
        "G.add_edge(\"Главное меню\", \"Поиск похожего\")\n",
        "G.add_edge(\"Главное меню\", \"Оценка бота\")\n",
        "G.add_edge(\"Подбери заголовок\", \"LogReg\")\n",
        "G.add_edge(\"Подбери заголовок\", \"RandomForest\")\n",
        "G.add_edge(\"LogReg\", \"Уверенность logReg\")\n",
        "G.add_edge(\"RandomForest\", \"Уверенность randomForest\")"
      ],
      "metadata": {
        "id": "uGhXMVF1iP9x"
      },
      "execution_count": 26,
      "outputs": []
    },
    {
      "cell_type": "code",
      "source": [
        "# Визуализация состояний\n",
        "# Установка позиций узлов\n",
        "pos = {\n",
        "    \"Регистрация\": (0, 5),\n",
        "    \"Главное меню\": (0, 4),\n",
        "    \"Подбери заголовок\": (-0.75, 3),\n",
        "    \"Поиск похожего\": (0, 3),\n",
        "    \"Оценка бота\": (1, 3),\n",
        "    \"LogReg\": (-1, 2),\n",
        "    \"Уверенность logReg\": (-1, 1),\n",
        "    \"RandomForest\": (-0.5, 2),\n",
        "    \"Уверенность randomForest\": (-0.5, 1)\n",
        "}\n",
        "\n",
        "fig, ax = plt.subplots(figsize=(12, 6))\n",
        "nx.draw(G, pos, with_labels=True, node_color='lightblue', font_size=10, arrows=True)\n",
        "plt.show()"
      ],
      "metadata": {
        "id": "1R1GwPeQB0cy",
        "colab": {
          "base_uri": "https://localhost:8080/",
          "height": 499
        },
        "outputId": "48283494-886d-4671-a648-fc8b5ccb8012"
      },
      "execution_count": 27,
      "outputs": [
        {
          "output_type": "display_data",
          "data": {
            "text/plain": [
              "<Figure size 1200x600 with 1 Axes>"
            ],
            "image/png": "[encoded data removed]"
          },
          "metadata": {}
        }
      ]
    },
    {
      "cell_type": "code",
      "source": [
        "# Словарь для сопоставления человеко-читаемых названий с идентификаторами\n",
        "node_to_state = {\n",
        "    \"Регистрация\": BotStates.registration_state,\n",
        "    \"Главное меню\": BotStates.main_menu_state,\n",
        "    \"Подбери заголовок\": BotStates.choosing_model_state,\n",
        "    \"LogReg\": BotStates.logreg_state,\n",
        "    \"Уверенность logReg\": BotStates.lr_prob_state,\n",
        "    \"RandomForest\": BotStates.randomforest_state,\n",
        "    \"Уверенность randomForest\": BotStates.rf_prob_state,\n",
        "    \"Поиск похожего\": BotStates.sim_state,\n",
        "    \"Оценка бота\": BotStates.rate_state\n",
        "}\n",
        "\n",
        "class GraphNavigator:\n",
        "    def __init__(self, graph, node):\n",
        "        self.graph = graph\n",
        "        self.current_node = node\n",
        "\n",
        "    def move_to_node(self, node):\n",
        "        if node in self.graph:\n",
        "            self.current_node = node\n",
        "\n",
        "    def get_parent(self):\n",
        "        if self.current_node == \"Регистрация\":\n",
        "            return \"Регистрация\"\n",
        "        parent = list(self.graph.predecessors(self.current_node))[0]\n",
        "        return parent\n",
        "\n",
        "    def move_to_parent(self):\n",
        "        self.current_node = self.get_parent()\n",
        "\n",
        "    def get_current_node(self):\n",
        "        return self.current_node"
      ],
      "metadata": {
        "id": "Rhk5hPlW8f1P"
      },
      "execution_count": 28,
      "outputs": []
    },
    {
      "cell_type": "code",
      "source": [
        "test = GraphNavigator(G, \"Главное меню\")\n",
        "test.get_parent()"
      ],
      "metadata": {
        "id": "j1hV--Xf5X3c",
        "colab": {
          "base_uri": "https://localhost:8080/",
          "height": 36
        },
        "outputId": "eaf8c529-91fc-4ff7-bcbd-f124d4b6f8d7"
      },
      "execution_count": 29,
      "outputs": [
        {
          "output_type": "execute_result",
          "data": {
            "text/plain": [
              "'Регистрация'"
            ],
            "application/vnd.google.colaboratory.intrinsic+json": {
              "type": "string"
            }
          },
          "metadata": {},
          "execution_count": 29
        }
      ]
    },
    {
      "cell_type": "markdown",
      "source": [
        "### Кнопки (Клавиатуры) для бота"
      ],
      "metadata": {
        "id": "OvAeLUGMgwX1"
      }
    },
    {
      "cell_type": "code",
      "source": [
        "# keyboards/keyboard_for_main_menu.py\n",
        "def keyboard_for_main_menu() -> ReplyKeyboardMarkup:\n",
        "    kb = ReplyKeyboardBuilder()\n",
        "    kb.button(text=\"Отнеси мою новость к нужной теме\")\n",
        "    kb.button(text=\"Найди новость похожую на мою\")\n",
        "    kb.button(text=\"Оценить бота\")\n",
        "    kb.button(text=\"Назад\")\n",
        "    kb.adjust(2)\n",
        "    return kb.as_markup(resize_keyboard=True)"
      ],
      "metadata": {
        "id": "T2Ie7Ho0g77w"
      },
      "execution_count": 30,
      "outputs": []
    },
    {
      "cell_type": "code",
      "source": [
        "# keyboards/keyboard_for_leaf_vertex.py\n",
        "def keyboard_for_leaf_vertex() -> ReplyKeyboardMarkup:\n",
        "    kb = ReplyKeyboardBuilder()\n",
        "    kb.button(text = \"Назад\")\n",
        "    kb.adjust(1)\n",
        "    return kb.as_markup(resize_keyboard=True)"
      ],
      "metadata": {
        "id": "QFIUy6-rhF2J"
      },
      "execution_count": 31,
      "outputs": []
    },
    {
      "cell_type": "code",
      "execution_count": 32,
      "metadata": {
        "id": "ytNhVZRnsQMm"
      },
      "outputs": [],
      "source": [
        "# keyboards/keyboard_for_choosing_models.py\n",
        "def keyboard_for_choosing_models() -> ReplyKeyboardMarkup:\n",
        "    kb = ReplyKeyboardBuilder()\n",
        "    kb.button(text=\"Логистическая регрессия\")\n",
        "    kb.button(text=\"Random Forest\")\n",
        "    kb.button(text=\"Назад\")\n",
        "    kb.adjust(1)\n",
        "    return kb.as_markup(resize_keyboard=True)"
      ]
    },
    {
      "cell_type": "code",
      "source": [
        "# keyboard/keyBoard_for_prob\n",
        "def keyBoard_for_prob() -> ReplyKeyboardMarkup:\n",
        "    kb = ReplyKeyboardBuilder()\n",
        "    kb.button(text=\"Покажи процент уверенности модели\")\n",
        "    kb.button(text=\"Назад\")\n",
        "    kb.adjust(1)\n",
        "    return kb.as_markup(resize_keyboard=True)"
      ],
      "metadata": {
        "id": "vp85CY0ZhgUV"
      },
      "execution_count": 33,
      "outputs": []
    },
    {
      "cell_type": "code",
      "source": [
        "# keyboards/keyboard_for_rating.py\n",
        "def keyboard_for_rating() -> ReplyKeyboardMarkup:\n",
        "    kb = ReplyKeyboardBuilder()\n",
        "    kb.button(text=\"Плохо \" + emoji.emojize(\":face_with_symbols_on_mouth:\"))\n",
        "    kb.button(text=\"Хорошо 🙂\")\n",
        "    kb.button(text=\"Отлично 😀\")\n",
        "    kb.button(text=\"Назад\")\n",
        "    kb.adjust(2)\n",
        "    return kb.as_markup(resize_keyboard=True)"
      ],
      "metadata": {
        "id": "X9meFdewedfb"
      },
      "execution_count": 34,
      "outputs": []
    },
    {
      "cell_type": "code",
      "source": [
        "print(emoji.demojize(\"🎉\"))"
      ],
      "metadata": {
        "colab": {
          "base_uri": "https://localhost:8080/"
        },
        "id": "LwAAsu_y9PNR",
        "outputId": "d985a1c6-b5d3-4d40-bb66-265c9436b821"
      },
      "execution_count": 35,
      "outputs": [
        {
          "output_type": "stream",
          "name": "stdout",
          "text": [
            ":party_popper:\n"
          ]
        }
      ]
    },
    {
      "cell_type": "markdown",
      "metadata": {
        "id": "Xcp-rJtXC5Yn"
      },
      "source": [
        "###Хэндлеры для бота. По сути это обработчики сообщений от пользователя"
      ]
    },
    {
      "cell_type": "code",
      "execution_count": 36,
      "metadata": {
        "id": "BOWXfa0gC1IE"
      },
      "outputs": [],
      "source": [
        "# handlers/start.py\n",
        "# from keyboards/keyboard_for_start.py import get_keyBoard_for_start\n",
        "\n",
        "router = Router()\n",
        "\n",
        "# @router.message(StateFilter(None), Command(\"start\"))\n",
        "@router.message(Command(\"start\"))\n",
        "async def cmd_start(message: Message, state: FSMContext):\n",
        "    # Очищаем сохраненные данные\n",
        "    await state.clear()\n",
        "    await state.update_data(navigator = \"Регистрация\")\n",
        "    await message.answer(text=\"Для продолжения введите свое имя\",\n",
        "                         reply_markup = ReplyKeyboardRemove())\n",
        "    # Устанавливаем пользователю состояние \"Регистрация\"\n",
        "    await state.set_state(BotStates.registration_state)"
      ]
    },
    {
      "cell_type": "code",
      "source": [
        "# handlers/registration_state.py\n",
        "@router.message(BotStates.registration_state)\n",
        "async def cmd_start(message: Message, state: FSMContext):\n",
        "    await message.answer(\n",
        "        text = f\"Добро пожаловать, {message.text}!\\nВыберите одну из опций\",\n",
        "        reply_markup = keyboard_for_main_menu()\n",
        "    )\n",
        "    # Устанавливаем пользователю состояние \"Главное меню\"\n",
        "    await state.update_data(user_name = message.text)\n",
        "    await state.update_data(navigator = \"Главное меню\")\n",
        "    await state.set_state(BotStates.main_menu_state)"
      ],
      "metadata": {
        "id": "EQ9SPxiWHzjL"
      },
      "execution_count": 37,
      "outputs": []
    },
    {
      "cell_type": "code",
      "execution_count": 38,
      "metadata": {
        "id": "O2YvASlBkHVO"
      },
      "outputs": [],
      "source": [
        "# handlers/back.py\n",
        "@router.message(F.text.lower() == \"назад\")\n",
        "async def back_to_menue(message: Message, state: FSMContext):\n",
        "    user_data = await state.get_data()\n",
        "    current_state_name = user_data['navigator']\n",
        "    graph_navigator = GraphNavigator(G, current_state_name)\n",
        "    parent_state_name = graph_navigator.get_parent()\n",
        "    parent_state = node_to_state[parent_state_name]\n",
        "    if parent_state_name == \"Регистрация\":\n",
        "        await message.answer(text=\"Введите свое имя\",\n",
        "                             reply_markup=ReplyKeyboardRemove())\n",
        "    if parent_state_name == \"Главное меню\":\n",
        "        await message.answer(text=\"Главное меню\",\n",
        "                             reply_markup = keyboard_for_main_menu())\n",
        "    if parent_state_name == \"Подбери заголовок\":\n",
        "        await message.answer(text=\"Попробуйте выбрать другую модель\",\n",
        "                             reply_markup = keyboard_for_choosing_models())\n",
        "    if parent_state_name == \"LogReg\":\n",
        "        await message.answer(text=\"Введите другую новость.\\nВыбранная модель: LogReg\",\n",
        "                             reply_markup=keyboard_for_leaf_vertex())\n",
        "    if parent_state_name == \"RandomForest\":\n",
        "        await message.answer(text=\"Введите другую новость.\\nВыбранная модель: Random Forest\",\n",
        "                             reply_markup=keyboard_for_leaf_vertex())\n",
        "    await state.update_data(navigator = parent_state_name)\n",
        "    await state.set_state(state = parent_state)"
      ]
    },
    {
      "cell_type": "code",
      "source": [
        "# handlers/main_menu_state.py\n",
        "# from keyboards/keyboard_for_choosing_models.py import keyboard_for_choosing_models\n",
        "\n",
        "# если в главном меню выбрали \"отнеси мою новость к нужной теме\"\n",
        "@router.message(\n",
        "    BotStates.main_menu_state,\n",
        "    F.text.lower() == \"отнеси мою новость к нужной теме\"\n",
        ")\n",
        "async def task_chosen_topic(message: Message, state: FSMContext):\n",
        "    await message.answer(\n",
        "        text = \"Теперь, пожалуйста, выберите модель\",\n",
        "        reply_markup = keyboard_for_choosing_models()\n",
        "    )\n",
        "    await state.update_data(navigator = \"Подбери заголовок\")\n",
        "    await state.set_state(BotStates.choosing_model_state)\n",
        "\n",
        "# если в главном меню выбрали \"найди новость похожую на мою\"\n",
        "@router.message(\n",
        "    BotStates.main_menu_state,\n",
        "    F.text.lower() == \"найди новость похожую на мою\"\n",
        ")\n",
        "async def task_chosen_sim(message: Message, state: FSMContext):\n",
        "    await message.answer(\n",
        "        text = \"Вы выбрали поиск похожей новости!\\nТеперь вставьте сюда текст Вашей новости\",\n",
        "        reply_markup = keyboard_for_leaf_vertex()\n",
        "    )\n",
        "    await state.update_data(navigator = \"Поиск похожего\")\n",
        "    await state.set_state(BotStates.sim_state)\n",
        "\n",
        "# если в главном меню выбрали \"Оценить юота\"\n",
        "@router.message(\n",
        "    BotStates.main_menu_state,\n",
        "    F.text.lower() == \"оценить бота\"\n",
        ")\n",
        "async def task_chosen_rate(message: Message, state: FSMContext):\n",
        "    # Проверяем, оставлял ли пользователь оценку ранее\n",
        "    user_data = await state.get_data()\n",
        "    user_name = user_data['user_name']\n",
        "    users = []\n",
        "    try:\n",
        "        async with aiofiles.open(\"rating\", 'r') as file:\n",
        "            async for line in file:\n",
        "                users.append(line.split(':')[0].strip())\n",
        "    except FileNotFoundError:\n",
        "        users = []\n",
        "    if user_name in users:\n",
        "        await message.answer(\n",
        "            text = \"Пользователь с таким именем уже оценил бота❗️\\nЧтобы изменить оценку нажмите на кнопку из списка ниже\",\n",
        "            reply_markup = keyboard_for_rating())\n",
        "    else:\n",
        "        await message.answer(\n",
        "            text = \"Спасибо, что решили оценить бота!\\nВыберите оценку из списка ниже\",\n",
        "            reply_markup = keyboard_for_rating()\n",
        "        )\n",
        "    await state.update_data(navigator = \"Оценка бота\")\n",
        "    await state.set_state(BotStates.rate_state)"
      ],
      "metadata": {
        "id": "lH_XvqSMaxnw"
      },
      "execution_count": 39,
      "outputs": []
    },
    {
      "cell_type": "code",
      "execution_count": 40,
      "metadata": {
        "id": "sqlVU3Um4vX8"
      },
      "outputs": [],
      "source": [
        "# handlers/choosing_models_state.py\n",
        "# from keyboards/keyboard_for_choosing_models.py import keyboard_for_choosing_models\n",
        "\n",
        "# Роутер для обработка запроса \"LogReg\"\n",
        "# handlers/logreg.py\n",
        "@router.message(BotStates.choosing_model_state,\n",
        "                F.text.lower() == \"логистическая регрессия\")\n",
        "async def log_reg_chosen(message: Message, state: FSMContext):\n",
        "    await message.answer(\n",
        "        text = \"Поздравляю, вы выбрали логистическую регрессию! Теперь отправте боту Вашу новость\",\n",
        "        reply_markup = keyboard_for_leaf_vertex()\n",
        "    )\n",
        "    await state.update_data(navigator = \"LogReg\")\n",
        "    await state.set_state(BotStates.logreg_state)\n",
        "\n",
        "# Роутер для обработка запроса \"RandomForest\"\n",
        "# handlers/random_forest.py\n",
        "@router.message(BotStates.choosing_model_state,\n",
        "                F.text.lower() == \"random forest\")\n",
        "async def random_forest_chosen(message: Message, state: FSMContext):\n",
        "    await message.answer(\n",
        "        text = \"Поздравляю, вы выбрали random forest! Теперь отправте боту Вашу новость\",\n",
        "        reply_markup = keyboard_for_leaf_vertex()\n",
        "    )\n",
        "    await state.update_data(navigator = \"RandomForest\")\n",
        "    await state.set_state(BotStates.randomforest_state)\n",
        "\n",
        "# Роутер для обработки некорректных вводов\n",
        "# handlers/incorrect model.py\n",
        "@router.message(BotStates.choosing_model_state,\n",
        "                F.text.lower() != \"назад\")\n",
        "async def task_chosen_incorrectly(message: Message, state: FSMContext):\n",
        "    await message.answer(\n",
        "        text = \"Некорректный ввод.\\n\\n\"\n",
        "             \"Пожалуйста, выберите модель из списка ниже:\",\n",
        "        reply_markup = keyboard_for_choosing_models()\n",
        "    )"
      ]
    },
    {
      "cell_type": "code",
      "source": [
        "node_to_sate = {\n",
        "    \"Регистрация\": BotStates.registration_state,\n",
        "    \"Главное меню\": BotStates.main_menu_state,\n",
        "    \"Подбери заголовок\": BotStates.choosing_model_state,\n",
        "    \"LogReg\": BotStates.logreg_state,\n",
        "    \"Уверенность logReg\": BotStates.lr_prob_state,\n",
        "    \"RandomForest\": BotStates.randomforest_state,\n",
        "    \"Уверенность randomForest\": BotStates.rf_prob_state,\n",
        "    \"Поиск похожего\": BotStates.sim_state,\n",
        "    \"Оценка приложения\": BotStates.rate_state\n",
        "}"
      ],
      "metadata": {
        "id": "H1kK56F9oQy5"
      },
      "execution_count": 41,
      "outputs": []
    },
    {
      "cell_type": "code",
      "execution_count": 42,
      "metadata": {
        "id": "pByZw6ZWuabS"
      },
      "outputs": [],
      "source": [
        "# Хэндлеры для обработки текстов новостей\n",
        "\n",
        "# Вывод результата Лог рег\n",
        "@router.message(BotStates.logreg_state)\n",
        "async def log_reg_answer(message: Message, state: FSMContext):\n",
        "    await state.update_data(predict_probabilities = format_predictions(predict_proba(message.text.lower()))) # запоминаем вероятности для следующего шага\n",
        "    await message.answer(\n",
        "        text = predict_lr(message.text.lower()),\n",
        "        reply_markup = keyBoard_for_prob()\n",
        "    )\n",
        "    await state.update_data(navigator = \"Уверенность logReg\")\n",
        "    await state.set_state(BotStates.lr_prob_state)\n",
        "\n",
        "# Вывод результата Random Forest\n",
        "# handlers/text_analysis_by_randomForesr.py\n",
        "@router.message(BotStates.randomforest_state)\n",
        "async def log_reg_answer(message: Message, state: FSMContext):\n",
        "    await state.update_data(predict_probabilities = format_predictions(predict_proba(message.text.lower()))) # запоминаем вероятности для следующего шага\n",
        "    await message.answer(\n",
        "        text = predict_lr(message.text.lower()),\n",
        "        reply_markup = keyBoard_for_prob()\n",
        "    )\n",
        "    await state.update_data(navigator = \"Уверенность randomForest\")\n",
        "    await state.set_state(BotStates.lr_prob_state)\n",
        "\n",
        "# Вывод результата Similar_text\n",
        "# handlers/similar_search.py\n",
        "@router.message(BotStates.sim_state)\n",
        "async def raandom_forest_answer(message: Message, state: FSMContext):\n",
        "    await message.answer(\n",
        "        text = get_sim_text(message.text.lower()),\n",
        "        reply_markup = keyboard_for_leaf_vertex()\n",
        "    )"
      ]
    },
    {
      "cell_type": "code",
      "execution_count": 43,
      "metadata": {
        "id": "8h1R3koUz8Nv"
      },
      "outputs": [],
      "source": [
        "# Хэндлеры для обработки запросов уверенности\n",
        "# handlers/lr_prob.py\n",
        "@router.message(BotStates.lr_prob_state,\n",
        "                F.text.lower() == \"покажи процент уверенности модели\")\n",
        "async def task_chosen_incorrectly(message: Message, state: FSMContext):\n",
        "    user_data = await state.get_data()\n",
        "    await message.answer(\n",
        "        text = user_data['predict_probabilities'],\n",
        "        reply_markup = keyboard_for_leaf_vertex()\n",
        "    )\n",
        "\n",
        "# handlers/rf_prob.py\n",
        "@router.message(BotStates.rf_prob_state,\n",
        "                F.text.lower() == \"покажи процент уверенности модели\")\n",
        "async def task_chosen_incorrectly(message: Message, state: FSMContext):\n",
        "    user_data = await state.get_data()\n",
        "    await message.answer(\n",
        "        text = user_data['predict_probabilities'],\n",
        "        reply_markup = keyboard_for_leaf_vertex()\n",
        "    )"
      ]
    },
    {
      "cell_type": "code",
      "source": [
        "# Хэндлеры для оценки работы бота\n",
        "# handlers/lr_prob.py\n",
        "@router.message(BotStates.rate_state,\n",
        "                F.text.lower() == \"плохо 🤬\")\n",
        "async def task_chosen_incorrectly(message: Message, state: FSMContext):\n",
        "    user_data = await state.get_data()\n",
        "    await message.answer(\n",
        "        text = f\"Жаль, что Вам не понравилось, {user_data['user_name']}( Мы постараемся доработать бота\",\n",
        "        reply_markup = keyboard_for_main_menu()\n",
        "    )\n",
        "    async with aiofiles.open(\"rating\", mode='a') as file:\n",
        "        await file.write(f\"{user_data['user_name']}: плохо\\n\")\n",
        "    await state.update_data(navigator = \"Главное меню\")\n",
        "    await state.set_state(BotStates.main_menu_state)\n",
        "\n",
        "\n",
        "# Хэндлеры для оценки работы бота\n",
        "# handlers/lr_prob.py\n",
        "@router.message(BotStates.rate_state,\n",
        "                F.text.lower() == \"хорошо 🙂\")\n",
        "async def task_chosen_incorrectly(message: Message, state: FSMContext):\n",
        "    user_data = await state.get_data()\n",
        "    await message.answer(\n",
        "        text = f\"Спасибо за оценку, {user_data['user_name']}! Скоро выйдет обновление и бот станет еще лучше!\",\n",
        "        reply_markup = keyboard_for_main_menu()\n",
        "    )\n",
        "    async with aiofiles.open(\"rating\", mode='a') as file:\n",
        "        await file.write(f\"{user_data['user_name']}: хорошо\\n\")\n",
        "    await state.update_data(navigator = \"Главное меню\")\n",
        "    await state.set_state(BotStates.main_menu_state)\n",
        "\n",
        "# Хэндлеры для оценки работы бота\n",
        "# handlers/lr_prob.py\n",
        "@router.message(BotStates.rate_state,\n",
        "                F.text.lower() == \"отлично 😀\")\n",
        "async def task_chosen_incorrectly(message: Message, state: FSMContext):\n",
        "    user_data = await state.get_data()\n",
        "    await message.answer(text=\"\" + emoji.emojize(\":party_popper:\"))\n",
        "    await message.answer(\n",
        "        text = f\"Мы рады, что Вам понравилось, {user_data['user_name']}!\",\n",
        "        reply_markup = keyboard_for_main_menu()\n",
        "    )\n",
        "    async with aiofiles.open(\"rating\", mode='a') as file:\n",
        "        await file.write(f\"{user_data['user_name']}: отлично\\n\")\n",
        "    await state.update_data(navigator = \"Главное меню\")\n",
        "    await state.set_state(BotStates.main_menu_state)"
      ],
      "metadata": {
        "id": "mfzis7MCvviw"
      },
      "execution_count": 44,
      "outputs": []
    },
    {
      "cell_type": "code",
      "source": [
        "# Роутер для помощи со стартом\n",
        "@router.message(StateFilter(None))\n",
        "async def help_with_start(message: Message, state: FSMContext):\n",
        "    await message.answer(\n",
        "        text = \"Этот бот помогает обрабатывать новости, для начала работы пропишите /start\",\n",
        "        reply_markup = ReplyKeyboardRemove()\n",
        "    )\n",
        "\n",
        "# Роутер для обработки некорректных вводов\n",
        "@router.message()\n",
        "async def incorrect_imput(message: Message, state: FSMContext):\n",
        "    await message.answer(\n",
        "        text = \"Некорректный ввод.\\n\"\n",
        "             \"Пожалуйста, выберите одно из списка ниже:\"\n",
        "    )"
      ],
      "metadata": {
        "id": "KRVEU3hcjvru"
      },
      "execution_count": 45,
      "outputs": []
    },
    {
      "cell_type": "markdown",
      "metadata": {
        "id": "B70BwML4rqfy"
      },
      "source": [
        "###bot.py - Точка входа в приложение"
      ]
    },
    {
      "cell_type": "code",
      "execution_count": null,
      "metadata": {
        "id": "q0ySMVt-r0vi"
      },
      "outputs": [],
      "source": [
        "# Включаем логирование, чтобы не пропустить важные сообщения\n",
        "logging.basicConfig(level=logging.INFO)\n",
        "\n",
        "# Запуск бота\n",
        "async def main():\n",
        "    bot = Bot(token=\"6708563519:AAHaTh5VfMYpkCUu8gHsBkCxIBGaY8mfOLo\")\n",
        "    dp = Dispatcher()\n",
        "    dp.include_router(router)\n",
        "    # Запускаем бота и пропускаем все накопленные входящие\n",
        "    # Да, этот метод можно вызвать даже если у вас поллинг\n",
        "    await bot.delete_webhook(drop_pending_updates=True)\n",
        "    await dp.start_polling(bot)\n",
        "\n",
        "await main()\n",
        "\n",
        "# Если код запускакется не в колабе или юпитере\n",
        "# if __name__ == \"__main__\":\n",
        "#     asyncio.run(main())"
      ]
    }
  ]
}
